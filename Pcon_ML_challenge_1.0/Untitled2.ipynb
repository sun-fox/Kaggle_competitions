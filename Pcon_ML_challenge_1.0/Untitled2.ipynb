{
 "cells": [
  {
   "cell_type": "code",
   "execution_count": 35,
   "metadata": {},
   "outputs": [],
   "source": [
    "import pandas as pd"
   ]
  },
  {
   "cell_type": "code",
   "execution_count": 36,
   "metadata": {},
   "outputs": [],
   "source": [
    "train = pd.read_table(\"train.csv\",sep=\",\")\n",
    "\n",
    "y = train.RMSD\n",
    "X = train.drop(['RMSD'],axis=1)\n",
    "\n",
    "# import matplotlib.pyplot as plt\n",
    "# plt.plot(X,train.RMSD)\n",
    "# plt.xlabel('X-axis')\n",
    "# plt.ylabel('RMSD')"
   ]
  },
  {
   "cell_type": "code",
   "execution_count": 112,
   "metadata": {},
   "outputs": [
    {
     "data": {
      "text/plain": [
       "RandomForestRegressor(bootstrap=True, criterion='mse', max_depth=27,\n",
       "                      max_features='auto', max_leaf_nodes=None,\n",
       "                      min_impurity_decrease=0.0, min_impurity_split=None,\n",
       "                      min_samples_leaf=1, min_samples_split=2,\n",
       "                      min_weight_fraction_leaf=0.0, n_estimators=100,\n",
       "                      n_jobs=None, oob_score=False, random_state=0, verbose=0,\n",
       "                      warm_start=False)"
      ]
     },
     "execution_count": 112,
     "metadata": {},
     "output_type": "execute_result"
    }
   ],
   "source": [
    "from sklearn.ensemble import RandomForestRegressor\n",
    "regr = RandomForestRegressor(bootstrap=True, criterion='mse', max_depth=27,\n",
    "                      max_features='auto', max_leaf_nodes=None,\n",
    "                      min_impurity_decrease=0.0, min_impurity_split=None,\n",
    "                      min_samples_leaf=1, min_samples_split=2,\n",
    "                      min_weight_fraction_leaf=0.0, n_estimators=100,\n",
    "                      n_jobs=None, oob_score=False, random_state=0, verbose=0,\n",
    "                      warm_start=False)\n",
    "regr.fit(X, y)"
   ]
  },
  {
   "cell_type": "code",
   "execution_count": 113,
   "metadata": {},
   "outputs": [],
   "source": [
    "tst = pd.read_csv(\"test.csv\")\n",
    "predictions = regr.predict(X)"
   ]
  },
  {
   "cell_type": "code",
   "execution_count": 114,
   "metadata": {},
   "outputs": [],
   "source": [
    "# predictions"
   ]
  },
  {
   "cell_type": "code",
   "execution_count": 115,
   "metadata": {},
   "outputs": [],
   "source": [
    "# y"
   ]
  },
  {
   "cell_type": "code",
   "execution_count": 116,
   "metadata": {},
   "outputs": [
    {
     "name": "stdout",
     "output_type": "stream",
     "text": [
      "0.9501732891118502\n"
     ]
    }
   ],
   "source": [
    "from sklearn.metrics import r2_score\n",
    "score=r2_score(train.RMSD,predictions)\n",
    "print(score)"
   ]
  },
  {
   "cell_type": "code",
   "execution_count": 91,
   "metadata": {},
   "outputs": [],
   "source": [
    "sub = pd.read_csv('./sample_submission.csv')\n",
    "df = regr.predict(pd.read_csv(\"test.csv\"))\n",
    "sub.RMSD = df\n",
    "sub.to_csv('rfpredict2.csv',index=False)"
   ]
  },
  {
   "cell_type": "code",
   "execution_count": 117,
   "metadata": {},
   "outputs": [
    {
     "data": {
      "text/html": [
       "<div>\n",
       "<style scoped>\n",
       "    .dataframe tbody tr th:only-of-type {\n",
       "        vertical-align: middle;\n",
       "    }\n",
       "\n",
       "    .dataframe tbody tr th {\n",
       "        vertical-align: top;\n",
       "    }\n",
       "\n",
       "    .dataframe thead th {\n",
       "        text-align: right;\n",
       "    }\n",
       "</style>\n",
       "<table border=\"1\" class=\"dataframe\">\n",
       "  <thead>\n",
       "    <tr style=\"text-align: right;\">\n",
       "      <th></th>\n",
       "      <th>ID</th>\n",
       "      <th>RMSD</th>\n",
       "    </tr>\n",
       "  </thead>\n",
       "  <tbody>\n",
       "    <tr>\n",
       "      <td>0</td>\n",
       "      <td>30001</td>\n",
       "      <td>10.884980</td>\n",
       "    </tr>\n",
       "    <tr>\n",
       "      <td>1</td>\n",
       "      <td>30002</td>\n",
       "      <td>3.820189</td>\n",
       "    </tr>\n",
       "    <tr>\n",
       "      <td>2</td>\n",
       "      <td>30003</td>\n",
       "      <td>16.658254</td>\n",
       "    </tr>\n",
       "    <tr>\n",
       "      <td>3</td>\n",
       "      <td>30004</td>\n",
       "      <td>15.116780</td>\n",
       "    </tr>\n",
       "    <tr>\n",
       "      <td>4</td>\n",
       "      <td>30005</td>\n",
       "      <td>10.573948</td>\n",
       "    </tr>\n",
       "    <tr>\n",
       "      <td>...</td>\n",
       "      <td>...</td>\n",
       "      <td>...</td>\n",
       "    </tr>\n",
       "    <tr>\n",
       "      <td>15724</td>\n",
       "      <td>45725</td>\n",
       "      <td>14.037957</td>\n",
       "    </tr>\n",
       "    <tr>\n",
       "      <td>15725</td>\n",
       "      <td>45726</td>\n",
       "      <td>8.066219</td>\n",
       "    </tr>\n",
       "    <tr>\n",
       "      <td>15726</td>\n",
       "      <td>45727</td>\n",
       "      <td>10.482373</td>\n",
       "    </tr>\n",
       "    <tr>\n",
       "      <td>15727</td>\n",
       "      <td>45728</td>\n",
       "      <td>13.137309</td>\n",
       "    </tr>\n",
       "    <tr>\n",
       "      <td>15728</td>\n",
       "      <td>45729</td>\n",
       "      <td>13.714672</td>\n",
       "    </tr>\n",
       "  </tbody>\n",
       "</table>\n",
       "<p>15729 rows × 2 columns</p>\n",
       "</div>"
      ],
      "text/plain": [
       "          ID       RMSD\n",
       "0      30001  10.884980\n",
       "1      30002   3.820189\n",
       "2      30003  16.658254\n",
       "3      30004  15.116780\n",
       "4      30005  10.573948\n",
       "...      ...        ...\n",
       "15724  45725  14.037957\n",
       "15725  45726   8.066219\n",
       "15726  45727  10.482373\n",
       "15727  45728  13.137309\n",
       "15728  45729  13.714672\n",
       "\n",
       "[15729 rows x 2 columns]"
      ]
     },
     "execution_count": 117,
     "metadata": {},
     "output_type": "execute_result"
    }
   ],
   "source": [
    "sub"
   ]
  },
  {
   "cell_type": "code",
   "execution_count": null,
   "metadata": {},
   "outputs": [],
   "source": []
  }
 ],
 "metadata": {
  "kernelspec": {
   "display_name": "Python 3",
   "language": "python",
   "name": "python3"
  },
  "language_info": {
   "codemirror_mode": {
    "name": "ipython",
    "version": 3
   },
   "file_extension": ".py",
   "mimetype": "text/x-python",
   "name": "python",
   "nbconvert_exporter": "python",
   "pygments_lexer": "ipython3",
   "version": "3.7.3"
  }
 },
 "nbformat": 4,
 "nbformat_minor": 2
}
