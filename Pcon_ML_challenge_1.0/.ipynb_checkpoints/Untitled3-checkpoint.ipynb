{
 "cells": [
  {
   "cell_type": "code",
   "execution_count": 1,
   "metadata": {},
   "outputs": [
    {
     "name": "stdout",
     "output_type": "stream",
     "text": [
      "0.9994174377062963\n"
     ]
    }
   ],
   "source": [
    "import pandas as pd\n",
    "train = pd.read_table(\"train.csv\",sep=\",\")\n",
    "\n",
    "y = train.RMSD\n",
    "X = train.drop(['RMSD'],axis=1)\n",
    "\n",
    "from sklearn.ensemble import ExtraTreesRegressor\n",
    "regr = ExtraTreesRegressor(n_estimators=2000, criterion='mse', max_depth=None, min_samples_split=2, min_samples_leaf=1, min_weight_fraction_leaf=0.0, max_features='auto', max_leaf_nodes=None, min_impurity_decrease=0.0, min_impurity_split=None, bootstrap=False, oob_score=False, n_jobs=None, random_state=None, verbose=0, warm_start=False)\n",
    "regr.fit(X, y)\n",
    "\n",
    "tst = pd.read_csv(\"test.csv\")\n",
    "predictions = regr.predict(X)\n",
    "\n",
    "from sklearn.metrics import r2_score\n",
    "score=r2_score(train.RMSD,predictions)\n",
    "print(score)"
   ]
  },
  {
   "cell_type": "code",
   "execution_count": 2,
   "metadata": {},
   "outputs": [
    {
     "data": {
      "text/plain": [
       "array([17.284,  6.021,  9.275, ...,  1.428, 20.754,  6.23 ])"
      ]
     },
     "execution_count": 2,
     "metadata": {},
     "output_type": "execute_result"
    }
   ],
   "source": [
    "predictions"
   ]
  },
  {
   "cell_type": "code",
   "execution_count": 3,
   "metadata": {},
   "outputs": [
    {
     "data": {
      "text/plain": [
       "0        17.284\n",
       "1         6.021\n",
       "2         9.275\n",
       "3        15.851\n",
       "4         7.962\n",
       "          ...  \n",
       "29996     2.591\n",
       "29997     1.034\n",
       "29998     1.428\n",
       "29999    20.754\n",
       "30000     6.230\n",
       "Name: RMSD, Length: 30001, dtype: float64"
      ]
     },
     "execution_count": 3,
     "metadata": {},
     "output_type": "execute_result"
    }
   ],
   "source": [
    "y"
   ]
  },
  {
   "cell_type": "code",
   "execution_count": 4,
   "metadata": {},
   "outputs": [
    {
     "data": {
      "text/html": [
       "<div>\n",
       "<style scoped>\n",
       "    .dataframe tbody tr th:only-of-type {\n",
       "        vertical-align: middle;\n",
       "    }\n",
       "\n",
       "    .dataframe tbody tr th {\n",
       "        vertical-align: top;\n",
       "    }\n",
       "\n",
       "    .dataframe thead th {\n",
       "        text-align: right;\n",
       "    }\n",
       "</style>\n",
       "<table border=\"1\" class=\"dataframe\">\n",
       "  <thead>\n",
       "    <tr style=\"text-align: right;\">\n",
       "      <th></th>\n",
       "      <th>ID</th>\n",
       "      <th>RMSD</th>\n",
       "    </tr>\n",
       "  </thead>\n",
       "  <tbody>\n",
       "    <tr>\n",
       "      <td>0</td>\n",
       "      <td>30001</td>\n",
       "      <td>10.540536</td>\n",
       "    </tr>\n",
       "    <tr>\n",
       "      <td>1</td>\n",
       "      <td>30002</td>\n",
       "      <td>3.598163</td>\n",
       "    </tr>\n",
       "    <tr>\n",
       "      <td>2</td>\n",
       "      <td>30003</td>\n",
       "      <td>15.988596</td>\n",
       "    </tr>\n",
       "    <tr>\n",
       "      <td>3</td>\n",
       "      <td>30004</td>\n",
       "      <td>14.971923</td>\n",
       "    </tr>\n",
       "    <tr>\n",
       "      <td>4</td>\n",
       "      <td>30005</td>\n",
       "      <td>10.524898</td>\n",
       "    </tr>\n",
       "    <tr>\n",
       "      <td>...</td>\n",
       "      <td>...</td>\n",
       "      <td>...</td>\n",
       "    </tr>\n",
       "    <tr>\n",
       "      <td>15724</td>\n",
       "      <td>45725</td>\n",
       "      <td>13.933496</td>\n",
       "    </tr>\n",
       "    <tr>\n",
       "      <td>15725</td>\n",
       "      <td>45726</td>\n",
       "      <td>7.735601</td>\n",
       "    </tr>\n",
       "    <tr>\n",
       "      <td>15726</td>\n",
       "      <td>45727</td>\n",
       "      <td>10.356000</td>\n",
       "    </tr>\n",
       "    <tr>\n",
       "      <td>15727</td>\n",
       "      <td>45728</td>\n",
       "      <td>12.632825</td>\n",
       "    </tr>\n",
       "    <tr>\n",
       "      <td>15728</td>\n",
       "      <td>45729</td>\n",
       "      <td>13.171726</td>\n",
       "    </tr>\n",
       "  </tbody>\n",
       "</table>\n",
       "<p>15729 rows × 2 columns</p>\n",
       "</div>"
      ],
      "text/plain": [
       "          ID       RMSD\n",
       "0      30001  10.540536\n",
       "1      30002   3.598163\n",
       "2      30003  15.988596\n",
       "3      30004  14.971923\n",
       "4      30005  10.524898\n",
       "...      ...        ...\n",
       "15724  45725  13.933496\n",
       "15725  45726   7.735601\n",
       "15726  45727  10.356000\n",
       "15727  45728  12.632825\n",
       "15728  45729  13.171726\n",
       "\n",
       "[15729 rows x 2 columns]"
      ]
     },
     "execution_count": 4,
     "metadata": {},
     "output_type": "execute_result"
    }
   ],
   "source": [
    "sub = pd.read_csv('./sample_submission.csv')\n",
    "df = regr.predict(pd.read_csv(\"test.csv\"))\n",
    "sub.RMSD = df\n",
    "sub.to_csv('etpredict1.csv',index=False)\n",
    "sub"
   ]
  },
  {
   "cell_type": "code",
   "execution_count": null,
   "metadata": {},
   "outputs": [],
   "source": [
    "sub2=sub\n",
    "sub2"
   ]
  },
  {
   "cell_type": "code",
   "execution_count": 5,
   "metadata": {},
   "outputs": [],
   "source": [
    "sub1 = pd.read_csv('./etpredict0.csv')"
   ]
  },
  {
   "cell_type": "code",
   "execution_count": 6,
   "metadata": {},
   "outputs": [
    {
     "data": {
      "text/html": [
       "<div>\n",
       "<style scoped>\n",
       "    .dataframe tbody tr th:only-of-type {\n",
       "        vertical-align: middle;\n",
       "    }\n",
       "\n",
       "    .dataframe tbody tr th {\n",
       "        vertical-align: top;\n",
       "    }\n",
       "\n",
       "    .dataframe thead th {\n",
       "        text-align: right;\n",
       "    }\n",
       "</style>\n",
       "<table border=\"1\" class=\"dataframe\">\n",
       "  <thead>\n",
       "    <tr style=\"text-align: right;\">\n",
       "      <th></th>\n",
       "      <th>ID</th>\n",
       "      <th>RMSD</th>\n",
       "    </tr>\n",
       "  </thead>\n",
       "  <tbody>\n",
       "    <tr>\n",
       "      <td>0</td>\n",
       "      <td>30001</td>\n",
       "      <td>10.554429</td>\n",
       "    </tr>\n",
       "    <tr>\n",
       "      <td>1</td>\n",
       "      <td>30002</td>\n",
       "      <td>3.740896</td>\n",
       "    </tr>\n",
       "    <tr>\n",
       "      <td>2</td>\n",
       "      <td>30003</td>\n",
       "      <td>16.061461</td>\n",
       "    </tr>\n",
       "    <tr>\n",
       "      <td>3</td>\n",
       "      <td>30004</td>\n",
       "      <td>15.102945</td>\n",
       "    </tr>\n",
       "    <tr>\n",
       "      <td>4</td>\n",
       "      <td>30005</td>\n",
       "      <td>10.663234</td>\n",
       "    </tr>\n",
       "    <tr>\n",
       "      <td>...</td>\n",
       "      <td>...</td>\n",
       "      <td>...</td>\n",
       "    </tr>\n",
       "    <tr>\n",
       "      <td>15724</td>\n",
       "      <td>45725</td>\n",
       "      <td>13.890986</td>\n",
       "    </tr>\n",
       "    <tr>\n",
       "      <td>15725</td>\n",
       "      <td>45726</td>\n",
       "      <td>7.838571</td>\n",
       "    </tr>\n",
       "    <tr>\n",
       "      <td>15726</td>\n",
       "      <td>45727</td>\n",
       "      <td>10.356000</td>\n",
       "    </tr>\n",
       "    <tr>\n",
       "      <td>15727</td>\n",
       "      <td>45728</td>\n",
       "      <td>12.794635</td>\n",
       "    </tr>\n",
       "    <tr>\n",
       "      <td>15728</td>\n",
       "      <td>45729</td>\n",
       "      <td>13.208722</td>\n",
       "    </tr>\n",
       "  </tbody>\n",
       "</table>\n",
       "<p>15729 rows × 2 columns</p>\n",
       "</div>"
      ],
      "text/plain": [
       "          ID       RMSD\n",
       "0      30001  10.554429\n",
       "1      30002   3.740896\n",
       "2      30003  16.061461\n",
       "3      30004  15.102945\n",
       "4      30005  10.663234\n",
       "...      ...        ...\n",
       "15724  45725  13.890986\n",
       "15725  45726   7.838571\n",
       "15726  45727  10.356000\n",
       "15727  45728  12.794635\n",
       "15728  45729  13.208722\n",
       "\n",
       "[15729 rows x 2 columns]"
      ]
     },
     "execution_count": 6,
     "metadata": {},
     "output_type": "execute_result"
    }
   ],
   "source": [
    "sub1"
   ]
  },
  {
   "cell_type": "code",
   "execution_count": null,
   "metadata": {},
   "outputs": [],
   "source": []
  }
 ],
 "metadata": {
  "kernelspec": {
   "display_name": "Python 3",
   "language": "python",
   "name": "python3"
  },
  "language_info": {
   "codemirror_mode": {
    "name": "ipython",
    "version": 3
   },
   "file_extension": ".py",
   "mimetype": "text/x-python",
   "name": "python",
   "nbconvert_exporter": "python",
   "pygments_lexer": "ipython3",
   "version": "3.7.3"
  }
 },
 "nbformat": 4,
 "nbformat_minor": 2
}
